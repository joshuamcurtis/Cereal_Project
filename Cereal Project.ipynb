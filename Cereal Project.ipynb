{
 "cells": [
  {
   "cell_type": "markdown",
   "id": "b5186ac0",
   "metadata": {},
   "source": [
    "# Econ 1923 - Product Differentiation Project\n",
    "\n",
    "## 1 Preparation\n",
    "### 1.1 Obtaining the data\n",
    "Create a data set containing nutrition information about cereal boxes. You can use all sources including the nutrition APIs, stores web pages, actual grocery stores, your pantry, etc.\n",
    "At the end of this process, you should have a dataframe that contains as many cereal boxes as possible and for each, you should have several nutritional facts and (ideally) serving sizes (cups or grams).\n",
    "The result of this part can be several dataframes, each resulting from the different data sources that you used.\n",
    "\n",
    "### 1.2 Cleaning and re-scaling\n",
    "Various data sources may contain different variable names, different units, or different serving sizes. Also, missing values can be an issue. Here, you are asked to:\n",
    "- Make sure that variable names in all dataframes that you created match.\n",
    "- Make sure that all nutritional measurements in all data frames are the same (e.g. per cup or per 100gr).\n",
    "- Merge the different data sources.\n",
    " \n",
    "The final data set should include a column indicating the source of the observation (i.e. is it from the API, entered manually from a certain store, etc.).\n",
    "\n",
    "### 1.3 Descriptive statistics\n",
    "Create a table with descriptive statistics (Mean, Median, standard deviation, range, number of missing observations, etc.\n",
    "\n",
    "## 2 Market Analysis\n",
    "### 2.1 Visualisation\n",
    "Create scatter plots of the data. Here you have to try several pairs of characteristics on which it seems like the products are more differentiated. This is a visual exercise but you can support your claims by looking at standard deviations and correlations.\n",
    "\n",
    "### 2.2 K-Means clustering\n",
    "Using the K-means clustering technique analyze the degree of product differentiation. Based on descriptive statistics, data availability, and scatter plots, choose pairs of features (i.e., nutrition facts) on which you believe the sellers differentiate themselves. Quantify your answer. You should try different K parameters. Report the goodness of fit (total sum of errors).\n",
    "\n",
    "## 3 Conclusions\n",
    "Summarize your findings and draw conclusions from them. What can you recommend to cereal producers on the market? Do you find this market to be saturated? Here, I leave it to you to analyze your findings as you see fit. Given all the effort you have put, This section should be as very important."
   ]
  }
 ],
 "metadata": {
  "kernelspec": {
   "display_name": "Python 3 (ipykernel)",
   "language": "python",
   "name": "python3"
  },
  "language_info": {
   "codemirror_mode": {
    "name": "ipython",
    "version": 3
   },
   "file_extension": ".py",
   "mimetype": "text/x-python",
   "name": "python",
   "nbconvert_exporter": "python",
   "pygments_lexer": "ipython3",
   "version": "3.9.7"
  }
 },
 "nbformat": 4,
 "nbformat_minor": 5
}
